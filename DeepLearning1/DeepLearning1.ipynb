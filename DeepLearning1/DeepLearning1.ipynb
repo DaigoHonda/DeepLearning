{
 "cells": [
  {
   "cell_type": "markdown",
   "source": [
    "# このNoteBookの目的"
   ],
   "metadata": {}
  },
  {
   "cell_type": "markdown",
   "source": [
    "私の勉強のために、以下の本の内容を私なりにまとめつつ<br>\n",
    "他の人にも説明できるように内容をまとめていく。<br>\n",
    "\n",
    "**本：ゼロから作るDeepLearning Pythonで学ぶディープラーニングの理論と実装<br>\n",
    "著者:斎藤　康穀<br>\n",
    "出版社　オライリージャパン**\n",
    "\n",
    "実際にコードを実行できるものに置き換えていくので、<br>\n",
    "本書を片手に持ち読みながら、このNoteで実際に動かしていくという運用が1番学習できると思われる。"
   ],
   "metadata": {}
  },
  {
   "cell_type": "markdown",
   "source": [
    "## Python入門　(省略)"
   ],
   "metadata": {}
  },
  {
   "cell_type": "markdown",
   "source": [
    "基本のため省略"
   ],
   "metadata": {}
  },
  {
   "cell_type": "markdown",
   "source": [
    "## パーセプトロン (perceptron)"
   ],
   "metadata": {}
  },
  {
   "cell_type": "markdown",
   "source": [
    "本章では、パーセプトロンについて説明し、パーセプトロンを使って簡単な問題を解いていただきます。<br>\n",
    "その過程を通して、パーセプトロンに親しんでもらいます。\n",
    "\n",
    "パーセプトロンはニューラルネットワーク(ディープラーニング)の起源となるアルゴリズムです。<br>\n",
    "そのため、パーセプトロンの仕組みを学ぶことは、ニューラルネットワークやディープラーニングへと進む上で重要な考え方を学ぶことになります。"
   ],
   "metadata": {}
  },
  {
   "cell_type": "markdown",
   "source": [
    "### パーセプトロンとは"
   ],
   "metadata": {}
  },
  {
   "cell_type": "markdown",
   "source": [
    "パーセプトロンは、複数の信号を入力として受け取り、一つの信号を出力します。<br>\n",
    "ここで言う「信号」とは、電流や川のような「流れ」を持つものをイメージするとよいでしょう。<br>\n",
    "電流が導線を流れ、電子を先に送り出すように、パーセプトロンの信号も流れを　作り、情報を先へと伝達していきます。<br>\n",
    "ただし、実際の電流とは違い、パーセプトロンの信号は「流す/流さない」の2値の値です。<br>\n",
    "本書では０を「信号を流さない」、1を「信号を流す」に対応させて考えます。"
   ],
   "metadata": {}
  },
  {
   "cell_type": "markdown",
   "source": [
    "##### 図2-1 2入力のパーセプトロン\n",
    "![DeepLearning1(2-1).png](attachment:f7c04b87-8f7b-4a4a-b762-601401f44e15.png)"
   ],
   "metadata": {},
   "attachments": {
    "f7c04b87-8f7b-4a4a-b762-601401f44e15.png": {
     "image/png": "[encoded data removed]"
    }
   }
  },
  {
   "cell_type": "markdown",
   "source": [
    "図2-1は2つの信号を入力として受け取るパーセプトロンの例を示しています。<br>\n",
    "$x_1$,$x_2$は入力信号、$y$は出力信号、$w_1,w_2$は重みを表します。<br>\n",
    "図の◯は「ニューロン」や「ノード」と呼ばれます。<br>\n",
    "入力信号は、ニューロンに送られる際に、それぞれに固有の重みが乗算されます。<br>\n",
    "ニューロンでは、送られてきた信号の総和が計算され、その総和がある限界値を超えた場合にのみ１を出力します。 (これをニューロンが発火すると表現する場合もあります。)<br>\n",
    "ここでは、その限界値を**閾値**とよび$\\theta$と言う記号で表すことにします。<br>\n",
    "\n",
    "\n",
    "パーセプトロンの原理は、たったこれだけです。\n",
    "以上のことを数式で表すと次の式(2.1)のようになります。"
   ],
   "metadata": {}
  },
  {
   "cell_type": "markdown",
   "source": [
    "##### 式2.1\n",
    "$$\n",
    "    y =\n",
    "        \\begin{cases}\n",
    "            0 \\quad (w_1x_1 + w_2x_2 \\leqq \\theta) \\\\\n",
    "            1 \\quad (w_1x_1 + w_2x_2 > \t\\theta) \\\\\n",
    "        \\end{cases}\n",
    "$$"
   ],
   "metadata": {}
  },
  {
   "cell_type": "markdown",
   "source": [
    "パーセプトロンは、複数ある入力信号のそれぞれに固有の重みを持ちます。\n",
    "<br>そしてその重みは、各信号の重要性をコントロールする要素として働きます。\n",
    "<br>つまり、その重みが大きければ大きいほど、その重みに対応する信号の重要性が高くなるのです。"
   ],
   "metadata": {}
  },
  {
   "cell_type": "markdown",
   "source": [
    "### 単純な論理回路"
   ],
   "metadata": {}
  },
  {
   "cell_type": "markdown",
   "source": [
    "ANDゲート,ORゲート,NANDゲートを考えるがあまり重要ではないため、省略\n",
    "結論だけ記載する。\n",
    "\n",
    "- ANDゲート　： $(w_1,w_2,\\theta) =(0.5,0.5,0.7)$<br>\n",
    "    他にも組み合わせは無限に存在する。組み合わせの条件は $w_1+w_2 > \\theta　and　w_1 < \t\\theta　and　w_2 < \\theta$ である。\n",
    "- NANDゲート : $(w_1,w_2,\\theta) =(-0.5,-0.5,-0.7)$<br>\n",
    "    ANDゲートの組み合わせにマイナスをかけることで完成する\n",
    "- ORゲート :$(w_1,w_2,\\theta) =(1,1,0.5)$<br>\n",
    "    他にも組み合わせは無限に存在する。組み合わせの条件は $w_1 > \\theta　and　w_2 > \\theta$ である。"
   ],
   "metadata": {}
  },
  {
   "cell_type": "markdown",
   "source": [
    "コラム：　\n",
    "ここでパーセプトロンのパラメータを決めているのは、コンピュータではなく私たち人間です。真理値表という「学習データ」を見ながら、人の手によってパラメータの値を考えました。 <br>\n",
    "機械の問題では、このパラメータの値を決める作業をコンピュータに自動で行わせます。学習とは、適切なパラメータを決める作業であり、人が行う仕事は、パーセプトロンの構造を考え、コンピュータに学習データを与えることになります。<br>"
   ],
   "metadata": {}
  },
  {
   "cell_type": "markdown",
   "source": [
    "### パーセプトロンの実装"
   ],
   "metadata": {}
  },
  {
   "cell_type": "markdown",
   "source": [
    "#### 簡単な実装"
   ],
   "metadata": {}
  },
  {
   "cell_type": "markdown",
   "source": [
    "それでは、先の論理回路をPythonで実装しましょう。<br>\n",
    "ここでは、引数として$x_1$と$x_2$を受け取るANDという関数を定義します。"
   ],
   "metadata": {}
  },
  {
   "cell_type": "code",
   "execution_count": 13,
   "source": [
    "def AND(x1,x2):\n",
    "    w1,w2,theta = 0.5,0.5,0.7 #ANDゲートのw1,w2,$\\theta$を入力\n",
    "    tmp = x1*w1+x2*w2  # 式2.1の条件式に代入\n",
    "    if tmp <= theta: # 条件式を評価\n",
    "        return 0\n",
    "    elif tmp > theta:\n",
    "        return 1"
   ],
   "outputs": [],
   "metadata": {}
  },
  {
   "cell_type": "code",
   "execution_count": 10,
   "source": [
    "print(AND(0,0))\n",
    "print(AND(1,0))\n",
    "print(AND(0,1))\n",
    "print(AND(1,1))"
   ],
   "outputs": [
    {
     "output_type": "stream",
     "name": "stdout",
     "text": [
      "0\n",
      "0\n",
      "0\n",
      "1\n"
     ]
    }
   ],
   "metadata": {}
  },
  {
   "cell_type": "markdown",
   "source": [
    "期待した通りの出力になっています。\n",
    "<br>これで ANDゲートは実現することができました。<br>\n",
    "同様の手順でNANDゲートやORゲートを実装することができますが、ここでは、実装に少しだけ手を加えたいと思います。"
   ],
   "metadata": {}
  },
  {
   "cell_type": "code",
   "execution_count": null,
   "source": [],
   "outputs": [],
   "metadata": {}
  },
  {
   "cell_type": "code",
   "execution_count": null,
   "source": [],
   "outputs": [],
   "metadata": {}
  }
 ],
 "metadata": {
  "interpreter": {
   "hash": "aee8b7b246df8f9039afb4144a1f6fd8d2ca17a180786b69acc140d282b71a49"
  },
  "kernelspec": {
   "display_name": "Python 3",
   "language": "python",
   "name": "python3"
  },
  "language_info": {
   "codemirror_mode": {
    "name": "ipython",
    "version": 3
   },
   "file_extension": ".py",
   "mimetype": "text/x-python",
   "name": "python",
   "nbconvert_exporter": "python",
   "pygments_lexer": "ipython3",
   "version": "3.8.5"
  },
  "toc-autonumbering": true
 },
 "nbformat": 4,
 "nbformat_minor": 5
}